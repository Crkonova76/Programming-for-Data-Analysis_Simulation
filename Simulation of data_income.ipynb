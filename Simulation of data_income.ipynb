{
 "cells": [
  {
   "cell_type": "markdown",
   "metadata": {},
   "source": [
    "### Programming for Data Analysis"
   ]
  },
  {
   "cell_type": "markdown",
   "metadata": {},
   "source": [
    "### _Simulation of data_"
   ]
  },
  {
   "cell_type": "markdown",
   "metadata": {},
   "source": [
    "The main purpose of this project is to create a data set by modeling and simulating the real life scenarion of my choice."
   ]
  },
  {
   "cell_type": "markdown",
   "metadata": {},
   "source": [
    "My selected topic is the GROSS INCOME and the main factors affecting the overall earnings/income per person. The following variables are going to be researched and the impact of the factor on the income will be investigated:\n",
    "\n",
    "    *Age / work experience\n",
    "    *Education\n",
    "    *Sex\n",
    "    *Location\n",
    "    "
   ]
  },
  {
   "cell_type": "markdown",
   "metadata": {},
   "source": [
    "https://www150.statcan.gc.ca/n1/pub/75-001-x/2009101/article/10779-eng.htm Age and Earnings by May Luong and Benoit-Paul Hebert\n"
   ]
  },
  {
   "cell_type": "markdown",
   "metadata": {},
   "source": [
    "### AGE/EXPERIENCE"
   ]
  },
  {
   "cell_type": "markdown",
   "metadata": {},
   "source": [
    "Age is a key factor affecting earnings, as this tends to be a proxy for experience and the build-up of skills over time."
   ]
  },
  {
   "cell_type": "markdown",
   "metadata": {},
   "source": [
    "#### _a, The Range_"
   ]
  },
  {
   "cell_type": "markdown",
   "metadata": {},
   "source": [
    "The bourdary of age, when people are expected/allowed to be in employement needs to be established.The research is based on the current Irish legislation."
   ]
  },
  {
   "cell_type": "markdown",
   "metadata": {},
   "source": [
    "Under the Protection of Young Person (Employment) Act 1996 employers cannot employ children under age 16 in regulat full-time jobs. Children under age 14 cannot be employed at all. Children aged 14 and 15 may be employed if certain conditions are fulfilled:\n",
    "\n",
    ">Doing light work during the school holidays – they must have at least 21 days off work during this time\n",
    "\n",
    ">As part of an approved work experience or educational programme where the work is not harmful to their health, safety or development\n",
    "\n",
    ">In film, cultural, advertising work or sport under licences issued by the Minister for Jobs, Enterprise\n",
    "\n",
    "* _source :https://www.citizensinformation.ie/en/birth_family_relationships/children_s_rights_and_policy/children_and_rights_in_ireland.html_"
   ]
  },
  {
   "cell_type": "markdown",
   "metadata": {},
   "source": [
    "__For purpose of this project the minimum range for employement age is established to *16 years*__."
   ]
  },
  {
   "cell_type": "markdown",
   "metadata": {},
   "source": [
    "There is no single fixed retirement age for employees. For employd people, retirement age is set out in the contract of employment. The usual retirement age in contracts of employment is 65. Self-employed people donot face age limits."
   ]
  },
  {
   "cell_type": "markdown",
   "metadata": {},
   "source": [
    "Rules for public sector:"
   ]
  },
  {
   "cell_type": "markdown",
   "metadata": {},
   "source": [
    "People who were recruited before 1 April 2004, and who did not reach their compulsory retirement age of 65 before 26 December 2018, now have a new compulsory retirement age of 70. People who joined before 1 April 2004 previously had to retire at 65. Some occupations (for example Gardai, firefighters, Defence Forces) have provisions for earlier retirement."
   ]
  },
  {
   "cell_type": "markdown",
   "metadata": {},
   "source": [
    "* _source: https://www.citizensinformation.ie/en/employment/retirement/older_people_and_working/retirement_age_in_ireland.html_"
   ]
  },
  {
   "cell_type": "markdown",
   "metadata": {},
   "source": [
    "__For purpose of this project the maximum range for employement age is established to *70 years*__."
   ]
  },
  {
   "cell_type": "markdown",
   "metadata": {},
   "source": [
    "#### _b, The Distribution of age groups in a population of Ireland_"
   ]
  },
  {
   "cell_type": "markdown",
   "metadata": {},
   "source": [
    "https://www.sciencedirect.com/topics/earth-and-planetary-sciences/population-age-structure<br/>\n",
    "https://en.wikipedia.org/wiki/Population_pyramid"
   ]
  },
  {
   "cell_type": "markdown",
   "metadata": {},
   "source": [
    "To illustrate the distribution of various age groups in a population a population pyramid (age-sex pyramid) can be used. The population pyramid is a continuous stacked-histogram bars (horizontal bar diagram) with population size on the horizontal (x) axis and the age-group represented on the vertical(y-axis)."
   ]
  },
  {
   "cell_type": "markdown",
   "metadata": {},
   "source": [
    "The broad base of the pyramid means a relative majority of the population lies between ages 0–14, which tells us that the fertility rate of the country is high and above population sub-replacement fertility level. The older population is declining over time due to a shorter life expectancy of sixty years."
   ]
  },
  {
   "cell_type": "markdown",
   "metadata": {},
   "source": [
    "Based on the Central Statistics Office information (https://www.cso.ie/en/releasesandpublications/ep/p-cp3oy/cp3/assr/). The population of Ireland has been getting steadily older since the 1980's, as there is an increasing proportion of people in the older age groups.\n",
    "\n",
    "In Census 2016, 37.2 per cent of the population were 45 years or older compared to 34.4 per cent in 2011 and 27.6 per cent in 1986. The proportion of children and young adults aged less than 25 years old was 33.2 per cent in 2016 and this has been steadily declining since the late 1970's when 47.9 per cent of the population were in this age cohort. Persons aged 25 - 44 years old made up 29.5 per cent of the population in 2016 down from 31.6 per cent in 2011."
   ]
  },
  {
   "cell_type": "markdown",
   "metadata": {},
   "source": [
    "* _source:_\n",
    ">https://www.indexmundi.com/ireland/age_structure.html_<br/>\n",
    ">https://stackoverflow.com/questions/32370281/how-to-embed-image-or-picture-in-jupyter-notebook-either-from-a-local-machine-o"
   ]
  },
  {
   "cell_type": "code",
   "execution_count": null,
   "metadata": {},
   "outputs": [],
   "source": [
    "\n",
    "PATH = \"../Programming-for-Data-Analysis_Simulation/\"\n",
    "Image(filename = PATH + \"Population pyramid.PNG\", width=750, height=750)"
   ]
  },
  {
   "cell_type": "markdown",
   "metadata": {},
   "source": [
    "As was identified in previous chapter, for the purpose of this project, we are limiting the age bourdery to 16 up to 70 years. The distribution of population in this range is bell shaped, with the pick -median in the age group 35-39 years."
   ]
  },
  {
   "cell_type": "markdown",
   "metadata": {},
   "source": [
    "#### c, Relationship between the age and income"
   ]
  },
  {
   "cell_type": "markdown",
   "metadata": {},
   "source": [
    "https://www.hrinasia.com/general/defining-direct-correlation-between-age-and-proportionate-salary-increase-in-uk/ <br/>\n",
    "    https://dqydj.com/correlation-income-net-worth-age-america/ <br/>\n",
    "    https://www.sciencedirect.com/topics/computer-science/pearson-correlation <br/>\n",
    "    https://www.surveysystem.com/correlation.htm<br/>\n",
    "    https://www.ons.gov.uk/employmentandlabourmarket/peopleinwork/earningsandworkinghours/articles/analysisoffactorsaffectingearningsusingannualsurveyofhoursandearnings/2015\n",
    "    "
   ]
  },
  {
   "cell_type": "markdown",
   "metadata": {},
   "source": [
    "Correlation is a statistical technique that can show whether and how strong two variables are related. The main result of a correlation is called the correlation coefficient ( \"r\"). It ranges from -1.0 to +1.0. The closer r is to +1 or -1, the more closely the two variables are related.\n",
    "\n",
    "If r is close to 0, it means there is no relationship between the variables. If r is positive, it means that as one variable gets larger the other gets larger. If r is negative it means that as one gets larger, the other gets smaller (often called an \"inverse\" correlation)."
   ]
  },
  {
   "cell_type": "markdown",
   "metadata": {},
   "source": [
    "Considering the two variables “age” and “salary,” a strong positive correlation between the two would be expected: as people get older, they tend to earn more money. Therefore, the correlation between age and salary probably gives a value over 0.7."
   ]
  },
  {
   "cell_type": "markdown",
   "metadata": {},
   "source": [
    "Correlation quantifies the strength of the linear relationship between a pair of variables, whereas regression expresses the relationship in the form of an equation."
   ]
  },
  {
   "cell_type": "markdown",
   "metadata": {},
   "source": [
    "To evaluate and illustrate the correlation between variables age and earnings the average earnings per age in UK measured in 2018 was used (see link and picture of table below)."
   ]
  },
  {
   "cell_type": "markdown",
   "metadata": {},
   "source": [
    "https://www.ons.gov.uk/employmentandlabourmarket/peopleinwork/earningsandworkinghours/datasets/agegroupashetable6"
   ]
  },
  {
   "cell_type": "code",
   "execution_count": null,
   "metadata": {},
   "outputs": [],
   "source": [
    "PATH = \"../Programming-for-Data-Analysis_Simulation/\"\n",
    "Image(filename = PATH + \"Average salary by age UK 2018.PNG\", width=750, height=750) "
   ]
  },
  {
   "cell_type": "code",
   "execution_count": null,
   "metadata": {},
   "outputs": [],
   "source": [
    "import pandas as pd"
   ]
  },
  {
   "cell_type": "code",
   "execution_count": null,
   "metadata": {},
   "outputs": [],
   "source": [
    "import numpy as np"
   ]
  },
  {
   "cell_type": "code",
   "execution_count": null,
   "metadata": {},
   "outputs": [],
   "source": [
    "import seaborn as sns"
   ]
  },
  {
   "cell_type": "code",
   "execution_count": null,
   "metadata": {},
   "outputs": [],
   "source": [
    "x=[ 16,19,25,35,45,55,65]\n",
    "y=[ 69, 211.8, 427.6,525.2, 536.6,483.9,354.]\n",
    "\n",
    "df=pd.DataFrame({\"x\":x,\"y\":y})"
   ]
  },
  {
   "cell_type": "code",
   "execution_count": null,
   "metadata": {},
   "outputs": [],
   "source": [
    "ax = sns.scatterplot(x,y)"
   ]
  },
  {
   "cell_type": "markdown",
   "metadata": {},
   "source": [
    "https://stackoverflow.com/questions/49855569/how-to-generate-random-numbers-to-satisfy-a-specific-mean-and-median-in-python"
   ]
  },
  {
   "cell_type": "code",
   "execution_count": null,
   "metadata": {},
   "outputs": [],
   "source": [
    "\n",
    "age = np.random.randint(17,70,size=10)"
   ]
  },
  {
   "cell_type": "code",
   "execution_count": null,
   "metadata": {},
   "outputs": [],
   "source": [
    "print(age)"
   ]
  },
  {
   "cell_type": "code",
   "execution_count": null,
   "metadata": {},
   "outputs": [],
   "source": [
    "n=100\n",
    "age = np.random.randint(0,1,size=n) # initalisation only\n",
    "while True:\n",
    "        if age.mean() == 40:\n",
    "            break\n",
    "        else:\n",
    "           age=np.random.randint(17,70,size=n)"
   ]
  },
  {
   "cell_type": "code",
   "execution_count": null,
   "metadata": {},
   "outputs": [],
   "source": [
    "df(age)"
   ]
  },
  {
   "cell_type": "markdown",
   "metadata": {},
   "source": [
    "https://stackoverflow.com/questions/36894191/how-to-get-a-normal-distribution-within-a-range-in-numpy"
   ]
  },
  {
   "cell_type": "code",
   "execution_count": null,
   "metadata": {},
   "outputs": [],
   "source": [
    "from scipy.stats import truncnorm"
   ]
  },
  {
   "cell_type": "code",
   "execution_count": null,
   "metadata": {},
   "outputs": [],
   "source": [
    "def get_truncated_normal(mean=0, sd=1, low=0, upp=10):\n",
    "    return truncnorm(\n",
    "        (low - mean) / sd, (upp - mean) / sd, loc=mean, scale=sd)"
   ]
  },
  {
   "cell_type": "code",
   "execution_count": null,
   "metadata": {},
   "outputs": [],
   "source": [
    "age = get_truncated_normal(mean=45, sd=18, low=16, upp=70)\n"
   ]
  },
  {
   "cell_type": "code",
   "execution_count": null,
   "metadata": {},
   "outputs": [],
   "source": [
    "age.rvs(10)"
   ]
  },
  {
   "cell_type": "code",
   "execution_count": null,
   "metadata": {},
   "outputs": [],
   "source": [
    "np.random.normal(size=10, loc=40,scale=19.5)"
   ]
  },
  {
   "cell_type": "markdown",
   "metadata": {},
   "source": [
    "### GENDER"
   ]
  },
  {
   "cell_type": "markdown",
   "metadata": {},
   "source": [
    "In order to establish if the gender has any impact on the income further research was conducted."
   ]
  },
  {
   "cell_type": "markdown",
   "metadata": {},
   "source": [
    "#### a, Gender Gap"
   ]
  },
  {
   "cell_type": "markdown",
   "metadata": {},
   "source": [
    "Accordingly to the CPL Resources PLC Ireland has seen its gender pay gap widen from 12% in 2014 to 14% in late 2017. https://cpl.com/cpl-insights/insight-manage/6-statistics-you-need-to-know-about-the-gender-gap-in-ireland/\n",
    "\n",
    "The 13.9% is supported by article in BreakingNews.ie. https://www.breakingnews.ie/ireland/irish-women-working-for-free-for-rest-of-year-due-to-gender-pay-gap-963044.html "
   ]
  },
  {
   "cell_type": "markdown",
   "metadata": {},
   "source": [
    "Intrestingly, based on the survey conducted by Irishjobs.ie, the gender pay gap often begins at the start of working life,given that many women set their pay expectations 10 per cent lower than male peers straight out of university. https://irishtatler.com/worklife/gender-pay-gap-ireland--2"
   ]
  },
  {
   "cell_type": "markdown",
   "metadata": {},
   "source": [
    "Central Statistics Office of Ireland https://www.cso.ie/en/releasesandpublications/ep/p-wamii/womenandmeninireland2016/ reveals other intresting information, which might explain the difference in the earnings of males and females part of population. The percentage of 25-34 years olds with 3rd level education suggest that higher % of female with 55.1% (compared to 42.9% of males) completed the 3rd level education. The females are still taken more time off from work as they look after their families/homes.The statistics from 2016 reveals 445,500 females (compared to 9,200 males) are looking after home/family. Also, the females tend to work in average less hours as melaes -31.7 hrs by females compared to 39.7 hors by males. "
   ]
  },
  {
   "cell_type": "markdown",
   "metadata": {},
   "source": [
    "To ilustrate the gender gap see below the plot."
   ]
  },
  {
   "cell_type": "code",
   "execution_count": null,
   "metadata": {},
   "outputs": [],
   "source": [
    "PATH = \"../Programming-for-Data-Analysis_Simulation/\"\n",
    "Image(filename = PATH + \"Gender gap Ireland.PNG\", width=750, height=750) "
   ]
  },
  {
   "cell_type": "markdown",
   "metadata": {},
   "source": [
    "For the purpose of this project the 14% pay difference between males and females will be taken into account."
   ]
  },
  {
   "cell_type": "markdown",
   "metadata": {},
   "source": [
    "#### b, Distribution of work force"
   ]
  },
  {
   "cell_type": "markdown",
   "metadata": {},
   "source": [
    "For the purpose of the distribution of females and males based on the age the table below will be used. This ilustrate the labour force participation by age. The ratio of male tofemale per the age group is used by generating the random figures by age.\n"
   ]
  },
  {
   "cell_type": "markdown",
   "metadata": {},
   "source": [
    "### EDUCATION"
   ]
  },
  {
   "cell_type": "code",
   "execution_count": null,
   "metadata": {},
   "outputs": [],
   "source": []
  }
 ],
 "metadata": {
  "kernelspec": {
   "display_name": "Python 3",
   "language": "python",
   "name": "python3"
  },
  "language_info": {
   "codemirror_mode": {
    "name": "ipython",
    "version": 3
   },
   "file_extension": ".py",
   "mimetype": "text/x-python",
   "name": "python",
   "nbconvert_exporter": "python",
   "pygments_lexer": "ipython3",
   "version": "3.7.3"
  }
 },
 "nbformat": 4,
 "nbformat_minor": 2
}
