{
 "cells": [
  {
   "cell_type": "markdown",
   "metadata": {},
   "source": [
    "### Programming for Data Analysis"
   ]
  },
  {
   "cell_type": "markdown",
   "metadata": {},
   "source": [
    "### _Simulation of data_"
   ]
  },
  {
   "cell_type": "markdown",
   "metadata": {},
   "source": [
    "The main purpose of this project is to create a data set by modeling and simulating the real life scenarion of my choice."
   ]
  },
  {
   "cell_type": "markdown",
   "metadata": {},
   "source": [
    "My selected topic is the GROSS INCOME and the main factors affecting the overall earnings/income per person. The following variables are going to be researched and the impact of the factor on the income will be investigated:\n",
    "\n",
    "    *Age vs work experience\n",
    "    *Education\n",
    "    *Sex\n",
    "    "
   ]
  },
  {
   "cell_type": "markdown",
   "metadata": {},
   "source": [
    "https://www150.statcan.gc.ca/n1/pub/75-001-x/2009101/article/10779-eng.htm Age and Earnings by May Luong and Benoit-Paul Hebert\n"
   ]
  }
 ],
 "metadata": {
  "kernelspec": {
   "display_name": "Python 3",
   "language": "python",
   "name": "python3"
  },
  "language_info": {
   "codemirror_mode": {
    "name": "ipython",
    "version": 3
   },
   "file_extension": ".py",
   "mimetype": "text/x-python",
   "name": "python",
   "nbconvert_exporter": "python",
   "pygments_lexer": "ipython3",
   "version": "3.7.3"
  }
 },
 "nbformat": 4,
 "nbformat_minor": 2
}
